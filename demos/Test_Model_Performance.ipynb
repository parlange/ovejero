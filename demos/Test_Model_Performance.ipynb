{
 "cells": [
  {
   "cell_type": "code",
   "execution_count": null,
   "metadata": {},
   "outputs": [],
   "source": [
    "%load_ext autoreload\n",
    "%autoreload 2\n",
    "import numpy as np\n",
    "from tqdm import tqdm\n",
    "from matplotlib import pyplot as plt\n",
    "import matplotlib.lines as mlines\n",
    "%matplotlib inline\n",
    "from ovejero import model_trainer, data_tools, bnn_inference\n",
    "import corner\n",
    "\n",
    "def NOTIMPLEMENTED():\n",
    "    raise NotImplementedError('Must specify config path')"
   ]
  },
  {
   "cell_type": "markdown",
   "metadata": {},
   "source": [
    "# Testing the Performance of a Model That Has Been Fit\n",
    "\n",
    "__Author:__ Sebastian Wagner-Carena\n",
    "\n",
    "__Created:__ 11/14/2019\n",
    "\n",
    "__Last Run:__ 11/14/2019\n",
    "\n",
    "__Goals:__ Learn how to test the performance of a trained model on the validation set.\n",
    "\n",
    "__Before running this notebook:__ Run the Train_Toy_Model notebook to understand how to train a model. Then train a model with whatever configuration you want. You will have to add the path to the config file in this notebook."
   ]
  },
  {
   "cell_type": "code",
   "execution_count": null,
   "metadata": {},
   "outputs": [],
   "source": [
    "# First specify the config path\n",
    "config_path = '../configs/t1_local.json'#NOTIMPLEMENTED()\n",
    "\n",
    "# Check that the config has what you need\n",
    "cfg = model_trainer.load_config(config_path)\n",
    "\n",
    "# The InferenceClass will do all the heavy lifting of preparing the model from the configuration file,\n",
    "# initializing the validation dataset, and providing outputs correctly marginalized over the BNN uncertainties.\n",
    "bnn_infer = bnn_inference.InferenceClass(cfg)\n",
    "\n",
    "# Now we just have to ask the InferenceClass to spin up some samples from our BNN. The more samples, the more\n",
    "# accurate our plots and metrics will be. The right value to use unfortunately requires a bit of trial and error.\n",
    "# 100 is a good starting point though.\n",
    "num_samples = 100\n",
    "bnn_infer.gen_samples(num_samples)"
   ]
  },
  {
   "cell_type": "markdown",
   "metadata": {},
   "source": [
    "Now that we set up our infastructure, the first thing we want to do is inspect the statistics of our network's performance over the validation set."
   ]
  },
  {
   "cell_type": "code",
   "execution_count": null,
   "metadata": {},
   "outputs": [],
   "source": [
    "bnn_infer.report_stats()"
   ]
  },
  {
   "cell_type": "markdown",
   "metadata": {},
   "source": [
    "We can also inspect a coverage plot of our parameters. If our model is performing well, we expect our data to roughly follow the 68-95-99.7 rule."
   ]
  },
  {
   "cell_type": "code",
   "execution_count": null,
   "metadata": {},
   "outputs": [],
   "source": [
    "bnn_infer.gen_coverage_plots()"
   ]
  },
  {
   "cell_type": "markdown",
   "metadata": {},
   "source": [
    "Another good check is to see the posterior of some example images."
   ]
  },
  {
   "cell_type": "code",
   "execution_count": null,
   "metadata": {},
   "outputs": [],
   "source": [
    "image_index = 10\n",
    "bnn_infer.plot_posterior_contours(image_index)"
   ]
  },
  {
   "cell_type": "markdown",
   "metadata": {},
   "source": [
    "It's important to understand where our uncertainty is coming from. We can inspect wether our uncertainty is dominated by aleatoric or epistemic sources. "
   ]
  },
  {
   "cell_type": "code",
   "execution_count": null,
   "metadata": {},
   "outputs": [],
   "source": [
    "bnn_infer.comp_al_ep_unc()"
   ]
  },
  {
   "cell_type": "markdown",
   "metadata": {},
   "source": [
    "At the end what we want our network's posterior to be well calibrated. That means that the truth should be a representative draw from the distribution we're predicting. The exact sampling that goes into the calibration plot is complicated, but the x axis repesents how much of the data the model expects to fall within a certain region of our posterior, and the y axis represents how much data actually falls within that region. Ideally this would be a straight line (y=x), but in practice our model is likely to be overconfident, underconfident, or some combination of both. The lower right hand corner of our plot represents overconfidence, and the upper right hand corner represents underconfidence."
   ]
  },
  {
   "cell_type": "code",
   "execution_count": null,
   "metadata": {},
   "outputs": [],
   "source": [
    "n_draws = 10000\n",
    "color_map = [\"#377eb8\", \"#4daf4a\"]\n",
    "n_perc_points = 20\n",
    "bnn_infer.plot_calibration(n_draws=n_draws,color_map=color_map,n_perc_points=n_perc_points)"
   ]
  },
  {
   "cell_type": "markdown",
   "metadata": {},
   "source": [
    "To get a better feel for the calibration plot, we can repeat the same analysis on some toy 2D models. We can start with a biased 2D posterior prediction."
   ]
  },
  {
   "cell_type": "code",
   "execution_count": null,
   "metadata": {},
   "outputs": [],
   "source": [
    "# First we'll make a class to generate our comparison\n",
    "def plot_toy_model_calibration(data_mean,data_cov,post_mean,post_cov,toy_batch_size):\n",
    "    bnn_toy = bnn_inference.InferenceClass(cfg)\n",
    "    # We generate our toy data \n",
    "    data = np.random.multivariate_normal(data_mean,data_cov,(toy_batch_size))\n",
    "\n",
    "    # Now we generate our posterior means and covariances\n",
    "    post_mean = np.tile(post_mean,(toy_batch_size,1))\n",
    "    post_cov = np.tile(post_cov,(toy_batch_size,1,1))\n",
    "    post_samples = np.random.multivariate_normal(post_mean[0],post_cov[0],(toy_batch_size))\n",
    "\n",
    "    # We change our bnn inference instance to have these values\n",
    "    bnn_toy.samples_init = True\n",
    "    bnn_toy.y_pred = post_mean\n",
    "    bnn_toy.y_cov = post_cov\n",
    "    bnn_toy.y_test = data\n",
    "    \n",
    "    # We can visualize the true data and the posterior, and compare that to the calibration plot.\n",
    "    color_map=[\"#377eb8\", \"#4daf4a\"]\n",
    "    fig = corner.corner(post_samples,bins=20,labels=['x','y'],show_titles=False, plot_datapoints=False,\n",
    "                  label_kwargs=dict(fontsize=13),levels=[0.68,0.95],dpi=1600, \n",
    "                  color=color_map[0],fill_contours=True,range=[[-6,6],[-6,6]])\n",
    "    fig.axes[2].plot(data[:,0],data[:,1],'.',c=color_map[1],alpha=0.1)\n",
    "    data_line = mlines.Line2D([], [], color=color_map[0], label='Posterior')\n",
    "    post_line = mlines.Line2D([], [], color=color_map[1], label='Data')\n",
    "    plt.legend(handles=[data_line,post_line], bbox_to_anchor=(0., 1.0, 1., .0), loc=4,fontsize=15.0)\n",
    "    plt.show()\n",
    "    bnn_toy.plot_calibration(n_draws=1000,n_perc_points=30)"
   ]
  },
  {
   "cell_type": "code",
   "execution_count": null,
   "metadata": {},
   "outputs": [],
   "source": [
    "# We start with our offset posterior\n",
    "data_mean = np.zeros(2)\n",
    "data_cov = np.eye(2)\n",
    "toy_batch_size = 10000\n",
    "post_mean = np.ones(2)*2\n",
    "post_cov=np.eye(2)\n",
    "plot_toy_model_calibration(data_mean,data_cov,post_mean,post_cov,toy_batch_size)"
   ]
  },
  {
   "attachments": {},
   "cell_type": "markdown",
   "metadata": {},
   "source": [
    "The posterior we're predicting is offset from the truth, so our model is consistently overconfident. We can repeat the exercise with a posterior that is correctly centered but has a much tighter contour. We still expect our model to be overconfident."
   ]
  },
  {
   "cell_type": "code",
   "execution_count": null,
   "metadata": {},
   "outputs": [],
   "source": [
    "data_mean = np.zeros(2)\n",
    "data_cov = np.eye(2)\n",
    "toy_batch_size = 10000\n",
    "post_mean = np.zeros(2)\n",
    "post_cov=np.eye(2)*0.3\n",
    "plot_toy_model_calibration(data_mean,data_cov,post_mean,post_cov,toy_batch_size)"
   ]
  },
  {
   "cell_type": "markdown",
   "metadata": {},
   "source": [
    "Once again, our model is overconfident. We can similary see what happens when our model is overconfident by expanding our contours."
   ]
  },
  {
   "cell_type": "code",
   "execution_count": null,
   "metadata": {},
   "outputs": [],
   "source": [
    "data_mean = np.zeros(2)\n",
    "data_cov = np.eye(2)\n",
    "toy_batch_size = 10000\n",
    "post_mean = np.zeros(2)\n",
    "post_cov=np.eye(2)*3\n",
    "plot_toy_model_calibration(data_mean,data_cov,post_mean,post_cov,toy_batch_size)"
   ]
  },
  {
   "cell_type": "markdown",
   "metadata": {},
   "source": [
    "The model posterior here is underconfident - almost 90% of the data falls within the 1 sigma countour. Finally we can look at a more realistic example - a Gaussian posterior with no covariance trying to fit data with covariance."
   ]
  },
  {
   "cell_type": "code",
   "execution_count": null,
   "metadata": {},
   "outputs": [],
   "source": [
    "# We start with our offset posterior\n",
    "data_mean = np.zeros(2)\n",
    "data_cov = np.array([[1,0.99],[0.99,1]])\n",
    "toy_batch_size = 100000\n",
    "post_mean = np.zeros(2)\n",
    "post_cov=np.diag(np.std(np.random.multivariate_normal(data_mean,data_cov,(toy_batch_size)),axis=0))\n",
    "print(post_cov)\n",
    "plot_toy_model_calibration(data_mean,data_cov,post_mean,post_cov,toy_batch_size)"
   ]
  },
  {
   "attachments": {},
   "cell_type": "markdown",
   "metadata": {},
   "source": [
    "This is a pattern you may see a lot in training. When the covariance isn't being well captured the model can be under confident in certain regions and overconfident in others. "
   ]
  },
  {
   "cell_type": "code",
   "execution_count": null,
   "metadata": {},
   "outputs": [],
   "source": []
  }
 ],
 "metadata": {
  "kernelspec": {
   "display_name": "Python 3",
   "language": "python",
   "name": "python3"
  },
  "language_info": {
   "codemirror_mode": {
    "name": "ipython",
    "version": 3
   },
   "file_extension": ".py",
   "mimetype": "text/x-python",
   "name": "python",
   "nbconvert_exporter": "python",
   "pygments_lexer": "ipython3",
   "version": "3.6.8"
  }
 },
 "nbformat": 4,
 "nbformat_minor": 2
}
