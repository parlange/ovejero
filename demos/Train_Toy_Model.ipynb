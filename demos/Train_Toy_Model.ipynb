{
 "cells": [
  {
   "cell_type": "code",
   "execution_count": 1,
   "metadata": {},
   "outputs": [],
   "source": [
    "import os, json, sys, shutil\n",
    "from ovejero import model_trainer"
   ]
  },
  {
   "cell_type": "markdown",
   "metadata": {},
   "source": [
    "# Overfitting a Toy Model Using model_trainer\n",
    "\n",
    "__Author:__ Sebastian Wagner-Carena\n",
    "\n",
    "__Created:__ 10/24/2019\n",
    "\n",
    "__Last Run:__ 10/24/2019\n",
    "\n",
    "__Goals:__ Learn how to use model_trainer to overfit the three types of models used by ovejero\n",
    "\n",
    "__Before running this notebook:__ Run the Generate_Config notebook to understand what goes into the configuration files for overjero"
   ]
  },
  {
   "cell_type": "markdown",
   "metadata": {},
   "source": [
    "We'll start by loading up the test configuration file made by Generate_Config and inspecting it."
   ]
  },
  {
   "cell_type": "code",
   "execution_count": 2,
   "metadata": {},
   "outputs": [
    {
     "name": "stdout",
     "output_type": "stream",
     "text": [
      "{'training_params': {'bnn_type': 'gmm', 'batch_size': 10, 'n_epochs': 10, 'learning_rate': 0.0001, 'decay': 3e-06, 'kernel_regularizer': 1e-05, 'dropout_regularizer': 1e-06, 'root_path': '/Users/sebwagner/Documents/Grad_School/Rotations/Phil/ovejero/test/test_data/', 'tf_record_path': 'tf_record_test', 'final_params': ['external_shear_e1', 'external_shear_e2', 'lens_mass_center_x', 'lens_mass_center_y', 'lens_mass_e1', 'lens_mass_e2', 'lens_mass_gamma', 'lens_mass_theta_E_log'], 'flip_pairs': [[0, 1], [4, 5], [0, 1, 4, 5]], 'img_dim': 128, 'model_weights': '/Users/sebwagner/Documents/Grad_School/Rotations/Phil/ovejero/test/test_data/test_model.h5', 'tensorboard_log_dir': '/Users/sebwagner/Documents/Grad_School/Rotations/Phil/ovejero/test/test_data/test.log', 'random_seed': 1138}, 'validation_params': {'root_path': '/Users/sebwagner/Documents/Grad_School/Rotations/Phil/ovejero/test/test_data/', 'tf_record_path': 'tf_record_test_val'}, 'dataset_params': {'lens_params_path': 'metadata.csv', 'new_param_path': 'new_metadata.csv', 'normalization_constants_path': 'norms.npy', 'lens_params': ['external_shear_gamma_ext', 'external_shear_psi_ext', 'lens_mass_center_x', 'lens_mass_center_y', 'lens_mass_e1', 'lens_mass_e2', 'lens_mass_gamma', 'lens_mass_theta_E'], 'lens_params_log': ['lens_mass_theta_E'], 'ratang': {'ratang_parameter_prefixes': ['external_shear'], 'ratang_params_rat': ['external_shear_gamma_ext'], 'ratang_params_ang': ['external_shear_psi_ext']}}}\n"
     ]
    }
   ],
   "source": [
    "json_path = os.getcwd()[:-5]+'test/test_data/' + 'test.json'\n",
    "with open(json_path,'r') as json_f:\n",
    "    cfg = json.load(json_f)\n",
    "print(cfg)"
   ]
  },
  {
   "cell_type": "markdown",
   "metadata": {},
   "source": [
    "A lot of good information there! This is a good config file to start with. Let's go ahead and change a few paths and use it for our toy model."
   ]
  },
  {
   "cell_type": "code",
   "execution_count": 3,
   "metadata": {},
   "outputs": [
    {
     "name": "stdout",
     "output_type": "stream",
     "text": [
      "old path:\n",
      "/Users/sebwagner/Documents/Grad_School/Rotations/Phil/ovejero/test/test_data/test_model.h5\n",
      "new path:\n",
      "/Users/sebwagner/Documents/Grad_School/Rotations/Phil/ovejero/demos/test_model.h5\n"
     ]
    }
   ],
   "source": [
    "# Change the model weights to point to the demo directory! Same for log file.\n",
    "print('old path:')\n",
    "print(cfg['training_params']['model_weights'])\n",
    "\n",
    "cfg['training_params']['model_weights'] = os.getcwd() + '/test_model.h5'\n",
    "cfg['training_params']['tensorboard_log_dir'] = os.getcwd() + '/test_logs'\n",
    "print('new path:')\n",
    "print(cfg['training_params']['model_weights'])\n",
    "\n",
    "# Also let's start with the easy diagonal case\n",
    "cfg['training_params']['bnn_type'] = 'diag'\n",
    "\n",
    "# Now let's go ahead and save this as our new configuration file\n",
    "diag_json_path = os.getcwd() + '/diag.json'\n",
    "with open(diag_json_path,'w') as json_f:\n",
    "    json.dump(cfg,json_f,indent=4)"
   ]
  },
  {
   "cell_type": "markdown",
   "metadata": {},
   "source": [
    "All we have to do is call the main function of model_trainer with the path to our config file! You should see the loss go down as the model learns to overfit to the lenses in the very small training set. Because the random seed is set by the configuration file the final loss should be 2.8351"
   ]
  },
  {
   "cell_type": "code",
   "execution_count": 4,
   "metadata": {
    "scrolled": false
   },
   "outputs": [
    {
     "name": "stderr",
     "output_type": "stream",
     "text": [
      "100%|██████████| 20/20 [00:00<00:00, 449.94it/s]\n",
      "  0%|          | 0/20 [00:00<?, ?it/s]"
     ]
    },
    {
     "name": "stdout",
     "output_type": "stream",
     "text": [
      "Checking for training data.\n",
      "Generating new TFRecord at /Users/sebwagner/Documents/Grad_School/Rotations/Phil/ovejero/test/test_data/tf_record_test\n",
      "Checking for validation data.\n",
      "Generating new TFRecord at /Users/sebwagner/Documents/Grad_School/Rotations/Phil/ovejero/test/test_data/tf_record_test_val\n"
     ]
    },
    {
     "name": "stderr",
     "output_type": "stream",
     "text": [
      "100%|██████████| 20/20 [00:00<00:00, 356.91it/s]\n"
     ]
    },
    {
     "name": "stdout",
     "output_type": "stream",
     "text": [
      "Initializing the model\n",
      "Is model built: True\n",
      "No weights found. Saving new weights to /Users/sebwagner/Documents/Grad_School/Rotations/Phil/ovejero/demos/test_model.h5\n",
      "Epoch 1/10\n",
      "2/2 [==============================] - 9s 5s/step - loss: 4.1263 - diagonal_covariance_loss: 3.9816 - val_loss: 0.0000e+00 - val_diagonal_covariance_loss: 0.0000e+00\n",
      "Epoch 2/10\n",
      "2/2 [==============================] - 6s 3s/step - loss: 4.0302 - diagonal_covariance_loss: 3.8051 - val_loss: 3.6275 - val_diagonal_covariance_loss: 3.4831\n",
      "Epoch 3/10\n",
      "2/2 [==============================] - 6s 3s/step - loss: 3.3157 - diagonal_covariance_loss: 3.3097 - val_loss: 3.6658 - val_diagonal_covariance_loss: 3.5216\n",
      "Epoch 4/10\n",
      "2/2 [==============================] - 6s 3s/step - loss: 4.1434 - diagonal_covariance_loss: 3.5543 - val_loss: 3.3515 - val_diagonal_covariance_loss: 3.2075\n",
      "Epoch 5/10\n",
      "2/2 [==============================] - 6s 3s/step - loss: 3.0307 - diagonal_covariance_loss: 3.1071 - val_loss: 3.2585 - val_diagonal_covariance_loss: 3.1147\n",
      "Epoch 6/10\n",
      "2/2 [==============================] - 6s 3s/step - loss: 3.0085 - diagonal_covariance_loss: 3.1017 - val_loss: 3.1646 - val_diagonal_covariance_loss: 3.0211\n",
      "Epoch 7/10\n",
      "2/2 [==============================] - 6s 3s/step - loss: 3.6412 - diagonal_covariance_loss: 3.2094 - val_loss: 2.9959 - val_diagonal_covariance_loss: 2.8527\n",
      "Epoch 8/10\n",
      "2/2 [==============================] - 6s 3s/step - loss: 2.8832 - diagonal_covariance_loss: 2.8493 - val_loss: 3.1704 - val_diagonal_covariance_loss: 3.0275\n",
      "Epoch 9/10\n",
      "2/2 [==============================] - 7s 3s/step - loss: 2.9585 - diagonal_covariance_loss: 3.1146 - val_loss: 3.1026 - val_diagonal_covariance_loss: 2.9600\n",
      "Epoch 10/10\n",
      "2/2 [==============================] - 7s 3s/step - loss: 2.8351 - diagonal_covariance_loss: 2.7383 - val_loss: 2.9130 - val_diagonal_covariance_loss: 2.7706\n"
     ]
    }
   ],
   "source": [
    "# This is equivalent to 'python -m model_trainer diag_json_path' in the terminal where diag_json_path is the path.\n",
    "sys.argv = ['model_trainer',diag_json_path]\n",
    "model_trainer.main()"
   ]
  },
  {
   "cell_type": "markdown",
   "metadata": {},
   "source": [
    "At the end of each epoch we get the loss (which includes the concrete dropout regularization penalty) and the diagonal/full/gmm loss term (essentially the measure of how well our pdf is doing at capturing the data) on both the training and validation sets. "
   ]
  },
  {
   "cell_type": "code",
   "execution_count": 5,
   "metadata": {},
   "outputs": [],
   "source": [
    "# Clean up the files that were created by this notebook.\n",
    "test_data_path = os.getcwd()[:-5]+'test/test_data/'\n",
    "os.remove(test_data_path+'new_metadata.csv')\n",
    "os.remove(test_data_path+'norms.npy')\n",
    "os.remove(test_data_path+'tf_record_test')\n",
    "os.remove(test_data_path+'tf_record_test_val')\n",
    "os.remove('test_model.h5')\n",
    "shutil.rmtree('test_logs')\n",
    "os.remove('diag.json')"
   ]
  },
  {
   "cell_type": "code",
   "execution_count": null,
   "metadata": {},
   "outputs": [],
   "source": []
  }
 ],
 "metadata": {
  "kernelspec": {
   "display_name": "Python 3",
   "language": "python",
   "name": "python3"
  },
  "language_info": {
   "codemirror_mode": {
    "name": "ipython",
    "version": 3
   },
   "file_extension": ".py",
   "mimetype": "text/x-python",
   "name": "python",
   "nbconvert_exporter": "python",
   "pygments_lexer": "ipython3",
   "version": "3.6.8"
  }
 },
 "nbformat": 4,
 "nbformat_minor": 2
}
